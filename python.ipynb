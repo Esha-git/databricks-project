{
 "cells": [
  {
   "cell_type": "code",
   "execution_count": 0,
   "metadata": {
    "application/vnd.databricks.v1+cell": {
     "cellMetadata": {
      "byteLimit": 2048000,
      "rowLimit": 10000
     },
     "inputWidgets": {},
     "nuid": "69788093-f0d9-45d4-849b-7e89d6f48e7b",
     "showTitle": false,
     "tableResultSettingsMap": {},
     "title": ""
    }
   },
   "outputs": [
    {
     "output_type": "stream",
     "name": "stdout",
     "output_type": "stream",
     "text": [
      "['data1.csv', 'summary.csv', 'sales.csv']\n"
     ]
    }
   ],
   "source": [
    "# Step 1: list of filenames\n",
    "filenames = [\"data1.csv\", \"report.docx\", \"summary.csv\", \"image.png\", \"sales.csv\"]\n",
    "\n",
    "# Step 2: filter only CSV files\n",
    "csv_files = [file for file in filenames if file.endswith(\".csv\")]\n",
    "\n",
    "# Step 3: display\n",
    "print(csv_files)\n"
   ]
  }
 ],
 "metadata": {
  "application/vnd.databricks.v1+notebook": {
   "computePreferences": null,
   "dashboards": [],
   "environmentMetadata": {
    "base_environment": "",
    "environment_version": "4"
   },
   "inputWidgetPreferences": null,
   "language": "python",
   "notebookMetadata": {
    "pythonIndentUnit": 4
   },
   "notebookName": "python",
   "widgets": {}
  },
  "language_info": {
   "name": "python"
  }
 },
 "nbformat": 4,
 "nbformat_minor": 0
}